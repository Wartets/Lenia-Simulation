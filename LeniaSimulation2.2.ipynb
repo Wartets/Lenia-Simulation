{
 "cells": [
  {
   "cell_type": "markdown",
   "id": "b52e47ad-0b4d-4b7f-893b-84dc63b75e57",
   "metadata": {
    "tags": []
   },
   "source": [
    "# Simulation de Lenia\n",
    "---\n",
    "> Colin Bossu \\\n",
    "> Mai 2024\n",
    "---"
   ]
  },
  {
   "cell_type": "markdown",
   "id": "da8700d8-3248-49e4-ad97-18321553b9ee",
   "metadata": {
    "tags": []
   },
   "source": [
    "## Description"
   ]
  },
  {
   "cell_type": "markdown",
   "id": "dcfe975d-0cb6-4da9-a188-0c05e4f2d3a3",
   "metadata": {},
   "source": [
    "### Jeu de la vie et Simulation de Lenia\n",
    "\n",
    "> Le **jeu de la vie** de John Conway est un automate cellulaire inventé dans les années 1970. Il est constitué d'une grille bidimensionnelle infinie où chaque cellule peut être soit vivante, soit morte. L'état de chaque cellule évolue selon des règles simples basées sur le nombre de ses voisins vivants. Le jeu est un exemple classique de système dynamique avec des propriétés émergentes.\n",
    "\n",
    "> En revanche, la **simulation de Lenia** de Bert Wang-Chak Chan est une évolution de ce concept. Elle utilise une grille continue plutôt qu'une grille discrète, permettant des transitions en douceur entre les états des cellules. De plus, les règles de transition dans Lenia sont plus complexes, prenant en compte la valeur et la distance des cellules environnantes. Cela donne lieu à des motifs évolutifs plus variés et organiques."
   ]
  },
  {
   "cell_type": "markdown",
   "id": "25a19483-62f0-442b-817f-d143ad80bef3",
   "metadata": {},
   "source": [
    "### Principes de la simulation\n",
    "\n",
    "> La simulation de Lenia se base sur des principes fondamentaux :\n",
    "> \n",
    "> - **État d'une cellule** : Contrairement au jeu de la vie, où une cellule peut être vivante ou morte, dans Lenia, chaque cellule peut prendre une valeur continue entre 0 et 1, représentant son état.\n",
    "> \n",
    "> - **Voisinage** : Le voisinage d'une cellule est défini par un ensemble de cellules qui l'entourent. Lenia utilise différents types de voisinage, tels qu'un voisinage de Moore ou un voisinage de von Neumann.\n",
    "> \n",
    "> - **Espace** : Lenia se déroule dans un espace bidimensionnel continu, offrant une grande précision dans la représentation des positions des cellules.\n",
    "> \n",
    "> - **Règles de vie ou de mort** : Les règles de transition dans Lenia sont déterminées par une fonction continue prenant en compte la valeur et la position des cellules voisines.\n",
    "> \n",
    "> - **Temps** : Chaque étape de temps dans Lenia correspond à une mise à jour de l'état de toutes les cellules en fonction de leurs états actuels et de ceux de leurs voisines."
   ]
  },
  {
   "cell_type": "markdown",
   "id": "ed6bfdc1-cd5f-4803-bd5a-395c324f0cb7",
   "metadata": {},
   "source": [
    "### Calculs mathématiques\n",
    "\n",
    "> Lenia utilise des calculs mathématiques complexes pour déterminer l'évolution des états cellulaires dans une grille continue. Ces calculs impliquent l'utilisation de fonctions de noyau, de fonctions de croissance et de la fonction delta pour modéliser les interactions entre les cellules et leur environnement."
   ]
  },
  {
   "cell_type": "markdown",
   "id": "bc14e0d9-1b59-4ee8-9fe1-662fd1d0b1c5",
   "metadata": {},
   "source": [
    "#### Utilisation du noyau (Kernel)\n",
    "\n",
    "> Le noyau dans Lenia est utilisé pour calculer la distribution potentielle des cellules environnantes autour d'une cellule donnée. Il est composé de deux parties principales : la fonction de base du noyau (Kernel core function) et la fonction de couche du noyau (Kernel layer function).\n",
    "> \n",
    "> - **Fonction de base du noyau (Kernel core function)** : Cette fonction définit la forme générale du noyau et peut prendre différentes formes, telles que exponentielle, polynomiale ou rectangulaire. Par exemple, une fonction de noyau exponentielle peut être définie comme suit :\n",
    "> \n",
    "> $$K_C(r) = \\exp \\left( \\alpha - \\frac{\\alpha}{4r(1-r)} \\right)$$\n",
    "> \n",
    "> > où $\\alpha$ est un paramètre de forme.\n",
    "> \n",
    "> - **Fonction de couche du noyau (Kernel layer function)** : Cette fonction étend la fonction de base du noyau en calculant les valeurs réelles du noyau pour chaque cellule voisine. Elle est définie comme une série de couches concentriques autour de la cellule centrale. La fonction de couche du noyau peut être représentée comme suit :\n",
    "> \n",
    "> $$K_S(r; \\beta) = \\beta_{\\lfloor Br \\rfloor} \\cdot K_C(Br \\bmod 1)$$\n",
    "> \n",
    "> > où $\\beta$ est un vecteur de paramètres de crête contrôlant la hauteur de chaque couche, et $B$ est le rang du vecteur de paramètres.\n",
    "> \n",
    "> Une fois le noyau défini, il est normalisé pour avoir une somme d'éléments égale à 1, assurant la conservation de la masse."
   ]
  },
  {
   "cell_type": "markdown",
   "id": "616fce0b-ae6d-4432-8eca-3f5496ccb07b",
   "metadata": {},
   "source": [
    "#### Fonction delta\n",
    "\n",
    "> La fonction delta dans Lenia est utilisée pour calculer la croissance finale des cellules en fonction de la distribution potentielle calculée par le noyau. Cette fonction peut prendre différentes formes, telles que gaussienne, polynomiale, trapézoïdale ou en escalier.\n",
    "> \n",
    "> - **Fonction delta gaussienne** : Cette fonction est définie comme une gaussienne centrée autour de zéro, contrôlée par des paramètres tels que la moyenne $\\mu$ et l'écart type $\\sigma$. Elle peut être exprimée comme suit :\n",
    "> \n",
    "> $$G(u; \\mu, \\sigma) = 2 \\cdot \\exp \\left( -\\frac{(u - \\mu)^2}{2\\sigma^2} \\right) - 1$$\n",
    "> \n",
    "> - **Fonction delta polynomiale** : Cette fonction utilise un polynôme pour déterminer la croissance en fonction de la distribution potentielle. Elle peut être définie comme suit :\n",
    "> \n",
    "> $$G(u; \\mu, \\sigma) = 2 \\cdot \\mathbf{1}_{[\\mu \\pm 3\\sigma]}(u) \\cdot \\left(1 - \\frac{(u - \\mu)^2}{9\\sigma^2}\\right)^3 - 1$$\n",
    "> \n",
    "> - **Fonction delta trapézoïdale** : Cette fonction utilise une forme trapézoïdale pour la croissance. Elle peut être exprimée comme suit :\n",
    "> \n",
    "> $$G(u; \\mu, \\sigma) = 2 \\cdot \\mathbf{1}_{[\\mu \\pm \\sigma]}(u) - 1$$\n",
    "> \n",
    "> - **Fonction delta en escalier** : Cette fonction divise l'intervalle des valeurs en segments et attribue une croissance constante à chaque segment. Elle peut être définie comme suit :\n",
    "> \n",
    "> $$G(u; \\mu, \\sigma) = 2 \\cdot \\mathbf{1}_{[\\mu \\pm \\sigma]}(u) - 1$$"
   ]
  },
  {
   "cell_type": "markdown",
   "id": "65a34140-9ad4-4b34-9dff-12cab03ccb42",
   "metadata": {},
   "source": [
    "#### Application des fonctions\n",
    "\n",
    "> Une fois le noyau et la fonction delta définis, la croissance finale des cellules est calculée en multipliant la distribution potentielle par la fonction delta et en l'ajoutant à l'état initial de la cellule. Cela peut être représenté comme suit :\n",
    "> \n",
    "> $$A^{t+\\Delta t}(x) = \\text{clip} \\left( A^t(x) + \\Delta t \\cdot G_t(x), 0, 1 \\right)$$\n",
    "> \n",
    "> où $\\Delta_t$ représente le pas de temps, $A^{t}(x)$ est l'état initial de la cellule à l'itération $t$, et $G_t(x)$ est la croissance calculée à partir de la distribution potentielle.\n",
    "\n",
    "> La fonction clip est utilisée pour s'assurer que la valeur résultante reste dans l'intervalle [0, 1], assurant ainsi la cohérence avec les états cellulaires possibles."
   ]
  },
  {
   "cell_type": "markdown",
   "id": "27bbf010-bdbc-4be5-9711-424ecc24d51b",
   "metadata": {},
   "source": [
    "### Patterns et découvertes\n",
    "\n",
    "> Lenia a révélé une grande variété de motifs et de structures évolutives. Certains de ces motifs, tels que les oscillateurs, les vaisseaux et les structures stables, sont similaires à ceux trouvés dans le jeu de la vie de Conway. Cependant, la nature continue de Lenia a également permis l'émergence de motifs plus complexes et organiques, souvent avec des propriétés surprenantes et imprévues.\n",
    "\n",
    "> Par exemple, en variant le noyau de convolution, la fonction de croissance et la condition initiale, plus de 400 \"espèces\" de \"vie\" ont été découvertes dans Lenia. Ces \"créatures\" affichent des comportements complexes, tels que l'auto-organisation, l'autoréparation, les symétries bilatérales et radiales, les dynamiques locomotrices, et parfois une nature chaotique."
   ]
  },
  {
   "cell_type": "markdown",
   "id": "0d85e4e2-7afe-4070-82c6-523971107977",
   "metadata": {},
   "source": [
    "### Lenia et l'évolution de la vie artificielle\n",
    "\n",
    "> Lenia va bien au-delà de la simple simulation d'automates cellulaires. C'est un terrain de jeu pour l'étude de la vie artificielle, où des formes de vie émergent de règles simples et de conditions initiales variées. La flexibilité de Lenia permet l'exploration de la complexité émergente et offre un aperçu fascinant de la façon dont la vie pourrait évoluer dans des environnements numériques."
   ]
  },
  {
   "cell_type": "markdown",
   "id": "b068cad7-dedb-4510-8507-d436315dbe0c",
   "metadata": {
    "tags": []
   },
   "source": [
    "### Évolution de Lenia : Flow Lenia\n",
    "\n",
    "> Une extension de Lenia appelée Flow Lenia résout certains des défis de la découverte des \"créatures\" et permet des simulations multi-espèces avec des règles de mise à jour dynamiques et localisées. Cette évolution ouvre la voie à l'émergence intrinsèque de formes de vie artificielle auto-organisées dans des automates cellulaires continus (normalisation).\n",
    "\n",
    "Ce site internet, regroupe beaucoup de ressources en lien avec Lenia : https://chakazul.github.io/lenia.html"
   ]
  },
  {
   "cell_type": "markdown",
   "id": "d17f9dab-12b3-4e76-889a-4f1e823d5dec",
   "metadata": {
    "tags": []
   },
   "source": [
    "---"
   ]
  },
  {
   "cell_type": "markdown",
   "id": "9cc36acb-1a01-4468-8071-87839006922a",
   "metadata": {
    "tags": []
   },
   "source": [
    "Simulation\n",
    "---"
   ]
  },
  {
   "cell_type": "markdown",
   "id": "df3e83d8-5d00-49a8-9199-37d5e20ddb54",
   "metadata": {
    "tags": []
   },
   "source": [
    "Pour lancer la simulation, veuillez exécuter les cellules dans l'ordre indiqué. Si vous souhaitez générer des vidéos supplémentaires, il suffit de relancer la dernière cellule. Assurez-vous d'avoir créé un dossier nommé 'Simulations' dans le même répertoire que le notebook pour exporter les vidéos.\n",
    "\n",
    "Pour exécuter ce script Python avec succès, assurez-vous d'avoir installé les librairies nécessaires. Vous pouvez les installer en exécutant la commande suivante dans votre environnement Python :\n",
    "\n",
    "```\n",
    "pip install numpy matplotlib scipy tqdm\n",
    "```\n",
    "---"
   ]
  },
  {
   "cell_type": "code",
   "execution_count": null,
   "id": "a34cc8f1-21a8-4211-b0b5-261ab361225f",
   "metadata": {},
   "outputs": [],
   "source": [
    "import os\n",
    "import numpy as np\n",
    "import matplotlib.pyplot as plt\n",
    "import matplotlib.animation as animation\n",
    "import scipy as sp\n",
    "from tqdm import tqdm\n",
    "import matplotlib.patheffects as path_effects"
   ]
  },
  {
   "cell_type": "code",
   "execution_count": null,
   "id": "10ba2f3c-1ab1-408c-9333-cc5d07fbe259",
   "metadata": {
    "tags": []
   },
   "outputs": [],
   "source": [
    "os.chdir('Simulations') # dossier à créer/désactiver la cellule/changer le nom du dossier"
   ]
  },
  {
   "cell_type": "markdown",
   "id": "d970d673-cd57-44b8-a4ab-592f6c17f8a2",
   "metadata": {},
   "source": [
    "---"
   ]
  },
  {
   "cell_type": "code",
   "execution_count": null,
   "id": "ebb1d92b-8f1a-450c-823d-f1d6ae356abd",
   "metadata": {},
   "outputs": [],
   "source": [
    "num_file = 362 # choix de départ-1 pour la numérotation des fichiers\n",
    "# Il faut mettre le numéro du dernier fichier exporté"
   ]
  },
  {
   "cell_type": "markdown",
   "id": "69aaaf18-7618-4828-b6b9-b8f2680a2d9d",
   "metadata": {
    "jp-MarkdownHeadingCollapsed": true,
    "tags": []
   },
   "source": [
    "##### Constantes & Paramètres "
   ]
  },
  {
   "cell_type": "code",
   "execution_count": null,
   "id": "6ef8736d-f822-4900-9edc-478b90b82105",
   "metadata": {
    "tags": []
   },
   "outputs": [],
   "source": [
    "# Valeurs par défaut\n",
    "DPI = 80 # Qualité en point par pouce # defaut:100 des valeurs plus basses accélèrent le temps de rendu\n",
    "FPS = 25 # Frames par seconde\n",
    "CMAP = 'nipy_spectral' # inferno / Binary / YlGnBu / magma / gist_earth / gist_ncar / nipy_spectral # Choix du color-map\n",
    "\n",
    "N = 350 # hauteur du graphique # Taille recommandée\n",
    "M = 350 # largeur du graphique # Carré recommandé\n",
    "\n",
    "dt = 0.1"
   ]
  },
  {
   "cell_type": "markdown",
   "id": "032677b2-a9d3-4f8b-b729-3e5e74919602",
   "metadata": {
    "jp-MarkdownHeadingCollapsed": true,
    "tags": []
   },
   "source": [
    "##### Fonctions usuelles"
   ]
  },
  {
   "cell_type": "code",
   "execution_count": null,
   "id": "9286e9dc-3072-495e-bb00-51dc1784f0cd",
   "metadata": {},
   "outputs": [],
   "source": [
    "# Fonctions usuelles\n",
    "\n",
    "def gauss(x, mu, sigma): # 2D\n",
    "    return np.exp(-((x - mu)**2) / (2 * sigma**2))\n",
    "\n",
    "def gauss3D(x, y, mu_x, mu_y, sigma_x, sigma_y):\n",
    "    return np.exp(-0.5 * (((x - mu_x) / sigma_x)**2 + ((y - mu_y) / sigma_y)**2))"
   ]
  },
  {
   "cell_type": "markdown",
   "id": "b21e86c6-9770-471e-9030-7601e688d21e",
   "metadata": {
    "tags": []
   },
   "source": [
    "##### Definition des Kernels"
   ]
  },
  {
   "cell_type": "code",
   "execution_count": null,
   "id": "7e8cfbc3-d642-4b72-b19a-acffecc91c0b",
   "metadata": {
    "tags": []
   },
   "outputs": [],
   "source": [
    "# defintion des Kernels\n",
    "\n",
    "def Kernel_choice(K=1):\n",
    "    y, x = np.ogrid[-R:R, -R:R]\n",
    "    distance = np.sqrt((x+1)**2 + (y+1)**2) / R\n",
    "    if K == 1: # Kernel Simple Gaussien David Louapre\n",
    "        alpha = 4\n",
    "        MU = 0.5\n",
    "        SIGMA = 0.15\n",
    "        K_lenia = gauss(distance, MU, SIGMA)\n",
    "        K_lenia[distance > 1] = 0\n",
    "        K_lenia = K_lenia / np.sum(K_lenia)  # Normalisation\n",
    "        return K_lenia\n",
    "    \n",
    "    elif K == 2: # Kernel simple gaussien Bert Chan\n",
    "        alpha = 4\n",
    "        epsilon = 1e-10\n",
    "        distance_clipped = np.clip(distance, epsilon, 1 - epsilon)  # Pour éviter la division par zéro\n",
    "        K_lenia = np.exp(alpha * (1 - 1 / (4 * distance_clipped * (1 - distance_clipped))))\n",
    "        K_lenia[distance > 1] = 0\n",
    "        K_lenia = K_lenia / np.sum(K_lenia)  # Normalisation\n",
    "        return K_lenia\n",
    "    \n",
    "    elif K == 3: # Kernel unimodal par step\n",
    "        q = 0.25\n",
    "        K_lenia = np.where((q <= distance) & (distance <= 1 - q), 1, 0)\n",
    "        K_lenia = K_lenia / np.sum(K_lenia)\n",
    "        return K_lenia\n",
    "    \n",
    "    elif K == 4: # Kernel multiring : 3 rings\n",
    "        k1, k2, k3 = 0.5, 1, 0.67  # Poids des anneaux\n",
    "        rings = [k1, k2, k3]  # Liste des anneaux\n",
    "        nb_rings = len(rings)\n",
    "        pos_y, pos_x = N // 2, M // 2\n",
    "        y, x = np.ogrid[-R:R, -R:R]\n",
    "        distance = np.sqrt((x)**2 + (y)**2) / R\n",
    "        distance = distance * nb_rings\n",
    "        K_lenia = np.zeros_like(distance)\n",
    "        MU, SIGMA = 0.5, 0.15\n",
    "        for i in range(nb_rings):\n",
    "            masque = (distance.astype(int) == i)\n",
    "            K_lenia += masque * rings[i] * gauss(distance % 1, MU, SIGMA)\n",
    "        K_lenia = K_lenia / np.sum(K_lenia)\n",
    "        return K_lenia\n",
    "    \n",
    "    else:\n",
    "        raise ValueError(\"Invalid kernel type\")"
   ]
  },
  {
   "cell_type": "markdown",
   "id": "e0b3d38b-c323-44da-988a-d75a731fb293",
   "metadata": {
    "jp-MarkdownHeadingCollapsed": true,
    "tags": []
   },
   "source": [
    "##### Definition des fonctions delta"
   ]
  },
  {
   "cell_type": "code",
   "execution_count": null,
   "id": "af61f585-43e8-41d0-8b32-19116d29bd18",
   "metadata": {},
   "outputs": [],
   "source": [
    "# definition des fonctions d'evolution delta\n",
    "\n",
    "def growth_lenia(X, m, s): # fonction delta\n",
    "    return 2 * gauss(X, m, s)-1\n",
    "\n",
    "def evolve_lenia(X, m, s, K_lenia):\n",
    "    U = sp.signal.convolve2d(X, K_lenia, mode='same', boundary='wrap')\n",
    "    X = X + dt * growth_lenia(U, m, s)\n",
    "    X = np.clip(X, 0, 1)\n",
    "    return X\n",
    "\n",
    "def evolve_hydro(X, m, s, K_lenia):\n",
    "    fK = np.pad(K_lenia, ((M - len(K_lenia)) // 2, (N - len(K_lenia[0])) // 2), mode='constant') # centré sur une grille nulle de taille N/M\n",
    "    fK = np.fft.fft2(np.fft.fftshift(fK))\n",
    "    U = np.real(np.fft.ifft2(fK * np.fft.fft2(X)))\n",
    "    X = np.clip(X + dt * growth_lenia(U, m, s), 0, 1)\n",
    "    return X\n",
    "\n",
    "def evolve_fft(X, m, s, K_lenia):\n",
    "    fK = np.pad(K_lenia, ((M - len(K_lenia)) // 2, (N - len(K_lenia[0])) // 2), mode='constant') # centré sur une grille nulle de taille N/M\n",
    "    fK = np.fft.fft2(np.fft.fftshift(fK))\n",
    "    potential_fft = np.fft.fft2(X) * fK\n",
    "    potential = np.fft.fftshift(np.real(np.fft.ifft2(potential_fft)))\n",
    "    cells_new = np.clip(X + dt * gauss(potential, m, s), 0, 1)\n",
    "    return X"
   ]
  },
  {
   "cell_type": "markdown",
   "id": "df2b05b6-9114-41ae-9200-6de165fa1ce7",
   "metadata": {
    "tags": []
   },
   "source": [
    "##### Import des especes particulières pour l'initialisation"
   ]
  },
  {
   "cell_type": "code",
   "execution_count": null,
   "id": "af28d887-2942-468c-a041-b075188b2d49",
   "metadata": {},
   "outputs": [],
   "source": [
    "# Import d'espèces particulières\n",
    "\n",
    "# R=13;k=bump4();d=gaus(0.15,0.017)*0.1\n",
    "Orbium_unicaudatus = np.load(\"Orbium_unicaudatus2.npy\")\n",
    "\n",
    "# R=26;k=bump4();d=gaus(0.293,0.0511)*0.1\n",
    "Gyropteron_arcus = np.load(\"Gyropteron_arcus.npy\")\n",
    "\n",
    "# R=26;k=bump4();d=gaus(0.29,0.043)*0.1\n",
    "Scutium_solidus = np.load(\"Scutium_solidus.npy\")\n",
    "\n",
    "# R=18;k=bump4();d=gaus(0.26,0.036)*0.1\n",
    "Hydrogeminium = np.array([[0,0,0,0,0,0,0,0,0,0,0,0,0,0,0,0,0,0,0,0,0,0,0,0,0,0,0,0,0,0,0,0,0,0,0,0,0,0.01,0.02,0.03,0.04,0.04,0.04,0.03,0.02,0,0,0,0,0,0,0,0,0,0], [0,0,0,0,0,0,0,0,0,0,0,0,0,0,0,0,0,0,0,0,0,0,0,0,0,0,0,0,0,0,0,0,0,0,0,0.04,0.1,0.16,0.2,0.23,0.25,0.24,0.21,0.18,0.14,0.1,0.07,0.03,0,0,0,0,0,0,0], [0,0,0,0,0,0,0,0,0,0,0,0,0,0,0,0,0,0,0,0,0,0,0,0,0,0,0,0,0,0,0,0,0,0.01,0.09,0.2,0.33,0.44,0.52,0.56,0.58,0.55,0.51,0.44,0.37,0.3,0.23,0.16,0.08,0.01,0,0,0,0,0], [0,0,0,0,0,0,0,0,0,0,0,0,0,0,0,0,0,0,0,0,0,0,0,0,0,0,0,0,0,0,0,0,0,0.13,0.29,0.45,0.6,0.75,0.85,0.9,0.91,0.88,0.82,0.74,0.64,0.55,0.46,0.36,0.25,0.12,0.03,0,0,0,0], [0,0,0,0,0,0,0,0,0,0,0,0,0,0,0,0,0,0,0,0,0,0,0,0,0,0,0,0,0,0,0,0,0.14,0.38,0.6,0.78,0.93,1.0,1.0,1.0,1.0,1.0,1.0,0.99,0.89,0.78,0.67,0.56,0.44,0.3,0.15,0.04,0,0,0], [0,0,0,0,0,0,0,0,0,0,0,0,0,0,0,0,0,0,0,0,0,0,0,0,0,0,0,0,0,0,0,0.08,0.39,0.74,1.0,1.0,1.0,1.0,1.0,1.0,1.0,1.0,1.0,1.0,1.0,0.98,0.85,0.74,0.62,0.47,0.3,0.14,0.03,0,0], [0,0,0,0,0,0,0,0,0,0,0,0,0,0,0,0,0,0,0,0,0,0,0,0,0,0,0,0,0,0,0,0.32,0.76,1.0,1.0,1.0,1.0,1.0,1.0,1.0,1.0,1.0,1.0,1.0,1.0,1.0,1.0,0.88,0.75,0.61,0.45,0.27,0.11,0.01,0], [0,0,0,0,0,0,0,0,0,0,0,0,0,0,0,0,0,0,0,0,0,0,0,0,0,0,0,0,0,0,0.35,0.83,1.0,1.0,1.0,1.0,1.0,1.0,1.0,1.0,1.0,1.0,1.0,1.0,1.0,1.0,1.0,1.0,0.88,0.73,0.57,0.38,0.19,0.05,0], [0,0,0,0,0,0,0,0,0,0,0,0,0,0,0,0,0,0,0,0,0,0,0,0,0,0,0,0,0,0.5,1.0,1.0,1.0,1.0,1.0,1.0,1.0,0.99,1.0,1.0,1.0,1.0,0.99,1.0,1.0,1.0,1.0,1.0,1.0,0.85,0.67,0.47,0.27,0.11,0.01], [0,0,0,0,0,0,0,0,0,0,0,0,0,0,0,0,0,0,0,0,0,0,0,0,0,0,0,0,0.55,1.0,1.0,1.0,1.0,1.0,1.0,1.0,0.93,0.83,0.79,0.84,0.88,0.89,0.9,0.93,0.98,1.0,1.0,1.0,1.0,0.98,0.79,0.57,0.34,0.15,0.03], [0,0,0,0,0,0,0,0,0,0,0,0,0,0,0,0,0,0,0,0,0,0,0,0,0,0,0,0.47,1.0,1.0,1.0,1.0,1.0,1.0,1.0,0.9,0.72,0.54,0.44,0.48,0.6,0.7,0.76,0.82,0.91,0.99,1.0,1.0,1.0,1.0,0.91,0.67,0.41,0.19,0.05], [0,0,0,0,0,0,0,0,0,0,0,0,0,0,0,0,0,0,0,0,0,0,0,0,0,0,0.27,0.99,1.0,1.0,1.0,1.0,0.9,0.71,0.65,0.55,0.38,0.2,0.14,0.21,0.36,0.52,0.64,0.73,0.84,0.95,1.0,1.0,1.0,1.0,1.0,0.78,0.49,0.24,0.07], [0,0,0,0,0,0,0,0,0,0,0,0,0,0,0,0,0,0,0,0,0,0,0,0,0,0.14,0.63,0.96,1.0,1.0,1.0,0.84,0.17,0,0,0,0,0,0,0,0.13,0.35,0.51,0.64,0.77,0.91,0.99,1.0,1.0,1.0,1.0,0.88,0.58,0.29,0.09], [0,0,0,0,0,0,0,0,0,0,0,0,0,0,0,0,0,0,0,0,0,0,0,0,0.07,0.38,0.72,0.95,1.0,1.0,1.0,0.22,0,0,0,0,0,0,0,0,0,0.11,0.33,0.5,0.67,0.86,0.99,1.0,1.0,1.0,1.0,0.95,0.64,0.33,0.1], [0,0,0,0,0,0,0,0,0,0,0,0,0,0,0,0,0,0,0,0,0,0,0,0.32,0.49,0.71,0.93,1.0,1.0,1.0,0.56,0,0,0,0,0,0,0,0,0,0,0,0.1,0.31,0.52,0.79,0.98,1.0,1.0,1.0,1.0,0.98,0.67,0.35,0.11], [0,0,0,0,0,0,0,0,0,0,0,0,0,0,0,0,0,0,0,0,0,0,0.01,0.6,0.83,0.98,1.0,1.0,0.68,0,0,0,0,0,0,0,0,0,0,0,0,0,0,0.15,0.38,0.71,0.97,1.0,1.0,1.0,1.0,0.97,0.67,0.35,0.11], [0,0,0,0,0,0,0,0,0,0,0,0,0,0,0,0,0,0,0,0,0,0,0,0.51,0.96,1.0,1.0,0.18,0,0,0,0,0,0,0,0,0,0,0,0,0,0,0,0.09,0.34,0.68,0.95,1.0,1.0,1.0,1.0,0.91,0.61,0.32,0.1], [0,0,0,0,0,0,0,0,0,0,0,0,0,0,0,0,0,0,0,0,0,0,0.13,0.56,0.99,1.0,1.0,0,0,0,0,0,0,0,0,0,0,0,0,0,0,0,0,0.17,0.45,0.76,0.96,1.0,1.0,1.0,1.0,0.82,0.52,0.26,0.07], [0,0,0,0,0,0,0,0,0,0,0,0,0,0,0,0,0,0,0,0,0,0.33,0.7,0.94,1.0,1.0,0.44,0,0,0,0,0,0,0,0,0,0,0,0,0,0,0,0,0.33,0.68,0.91,0.99,1.0,1.0,1.0,1.0,0.71,0.42,0.19,0.03], [0,0,0,0,0,0,0,0,0,0,0,0,0,0,0,0,0,0,0,0,0.53,0.89,1.0,1.0,1.0,0.8,0.43,0.04,0,0,0,0,0,0,0,0,0,0,0,0,0,0,0,0.47,0.86,1.0,1.0,1.0,1.0,1.0,0.95,0.58,0.32,0.12,0], [0,0,0,0,0,0,0,0,0,0,0,0,0,0,0,0,0,0,0,0,0.77,0.99,1.0,0.97,0.58,0.41,0.33,0.18,0,0,0,0,0,0,0,0,0,0,0,0,0,0,0,0.54,0.95,1.0,1.0,1.0,1.0,1.0,0.8,0.44,0.21,0.06,0], [0,0,0,0,0,0,0,0,0,0,0,0,0,0,0,0,0,0,0,0.39,0.83,1.0,1.0,0.55,0.11,0.05,0.15,0.22,0.06,0,0,0,0,0,0,0,0,0,0,0,0,0,0,0.58,0.99,1.0,1.0,1.0,1.0,1.0,0.59,0.29,0.11,0.01,0], [0,0,0,0,0,0,0,0,0,0,0,0,0,0,0,0,0.04,0.55,0.81,0.86,0.97,1.0,1.0,0.5,0,0,0.01,0.09,0.03,0,0,0,0,0,0,0,0,0,0,0,0,0,0.26,0.78,1.0,1.0,1.0,1.0,1.0,0.66,0.35,0.13,0.03,0,0], [0,0,0,0,0,0,0,0,0,0,0,0,0,0,0,0,0.33,1.0,1.0,1.0,1.0,1.0,1.0,0.93,0.11,0,0,0,0,0,0,0,0,0,0,0,0,0,0,0,0.23,0.73,0.95,1.0,1.0,1.0,1.0,1.0,0.62,0.35,0.12,0,0,0,0], [0,0,0,0,0,0,0,0,0,0,0,0,0,0,0,0,0.51,1.0,1.0,1.0,1.0,1.0,1.0,1.0,0.72,0,0,0,0,0,0,0,0,0,0,0,0,0,0,0,1.0,1.0,1.0,1.0,1.0,1.0,1.0,0.56,0.25,0.09,0,0,0,0,0], [0,0,0,0,0,0,0,0,0,0,0,0,0,0,0.12,0.38,1.0,1.0,1.0,0.66,0.08,0.55,1.0,1.0,1.0,0.03,0,0,0,0,0,0,0,0,0,0,0,0,0,0.35,1.0,1.0,1.0,1.0,1.0,1.0,0.67,0.12,0,0,0,0,0,0,0], [0,0,0,0,0,0,0,0,0,0,0,0,0.6,1.0,1.0,1.0,1.0,1.0,1.0,0.49,0,0,0.87,1.0,0.88,0,0,0,0,0,0,0,0,0,0,0,0,0,0,1.0,1.0,1.0,1.0,1.0,1.0,0.7,0.07,0,0,0,0,0,0,0,0], [0,0,0,0,0,0,0,0,0,0.04,0.21,0.48,1.0,1.0,1.0,1.0,1.0,1.0,1.0,1.0,0,0,0.04,0.42,0.26,0,0,0,0,0,0,0,0,0,0.12,0.21,0.34,0.58,1.0,1.0,1.0,0.99,0.97,0.99,0.46,0,0,0,0,0,0,0,0,0,0], [0,0,0,0,0,0,0,0,0,0.5,1.0,1.0,1.0,1.0,0.96,0,0.31,1.0,1.0,1.0,0.53,0,0,0,0,0,0,0,0,0.2,0.21,0,0,0,0.27,1.0,1.0,1.0,1.0,1.0,1.0,0.87,0.52,0.01,0,0,0,0,0,0,0,0,0,0,0], [0,0,0,0,0,0,0,0,0.84,1.0,1.0,1.0,1.0,1.0,0,0,0,0.83,1.0,1.0,0.52,0,0,0,0,0,0,0,0.26,0.82,0.59,0.02,0,0,0.46,1.0,1.0,1.0,1.0,1.0,0.9,0.55,0,0,0,0,0,0,0,0,0,0,0,0,0], [0,0,0,0,0,0,0,0.39,0.99,1.0,1.0,1.0,1.0,0.78,0.04,0,0,0,0.93,0.92,0,0,0,0,0,0,0,0,0.69,1.0,1.0,0.36,0,0,1.0,1.0,0.65,0.66,0.97,0.87,0.54,0,0,0,0,0,0,0,0,0,0,0,0,0,0], [0,0,0,0,0.55,0.75,0.59,0.74,1.0,1.0,0,0,0.75,0.71,0.18,0,0,0,0,0,0,0,0,0,0,0.29,0,0,0.45,1.0,1.0,1.0,1.0,1.0,1.0,1.0,0.47,0.39,0.71,0.25,0,0,0,0,0,0,0,0,0,0,0,0,0,0,0], [0,0,0,0,0.69,0.81,0.8,0.92,1.0,0.13,0,0,0.13,0.94,0.58,0,0,0,0,0,0,0,0,0,1.0,1.0,0.34,0,0.04,1.0,1.0,1.0,1.0,1.0,1.0,1.0,0.24,0,0,0,0,0,0,0,0,0,0,0,0,0,0,0,0,0,0], [0,0,0,0,0.63,0.85,0.9,0.98,1.0,0.09,0,0,0.02,1.0,0.64,0,0,0,0,0,0,0,0,0.59,1.0,1.0,0.84,0,0,1.0,1.0,1.0,1.0,1.0,1.0,0.64,0,0,0,0,0,0,0,0,0,0,0,0,0,0,0,0,0,0,0], [0,0,0,0,0.64,0.65,0.67,1.0,1.0,0.21,0.01,0,0.04,0.02,0,0,0,0,0,0,0,0,0,0.69,1.0,1.0,1.0,0.29,0.37,1.0,1.0,0.6,0.63,1.0,0.84,0,0,0,0,0,0,0,0,0,0,0,0,0,0,0,0,0,0,0,0], [0,0,0,0,0.44,0.73,0.73,0.85,1.0,0.97,0.23,0.05,0,0,0,0,0,0,0,0,0.06,0,0,0,0.97,1.0,1.0,1.0,1.0,1.0,1.0,0.33,0.24,0.67,0,0,0,0,0,0,0,0,0,0,0,0,0,0,0,0,0,0,0,0,0], [0,0,0,0.12,0.55,0.9,0.9,1.0,1.0,1.0,0.43,0.04,0,0,0,0,0,0,0,0.31,0.54,0,0,0,0.88,1.0,1.0,1.0,1.0,1.0,1.0,0,0,0,0,0,0,0,0,0,0,0,0,0,0,0,0,0,0,0,0,0,0,0,0], [0,0,0,0.29,0.71,1.0,1.0,1.0,1.0,0.79,0.28,0,0,0,0,0,0,0,0,0.4,0.77,0.54,0,0,0.87,1.0,1.0,1.0,1.0,1.0,0.31,0,0,0,0,0,0,0,0,0,0,0,0,0,0,0,0,0,0,0,0,0,0,0,0], [0,0.16,0.27,0.41,0.72,0.99,1.0,1.0,0.82,0.42,0.09,0,0,0,0,0,0,0,0,0.1,0.55,0.58,0.58,0.77,0.99,1.0,1.0,1.0,1.0,0.63,0,0,0,0,0,0,0,0,0,0,0,0,0,0,0,0,0,0,0,0,0,0,0,0,0], [0.31,0.48,0.45,0.46,0.63,0.88,1.0,0.83,0.59,0.28,0.06,0,0,0,0,0,0,0,0,0,0.32,0.7,0.95,1.0,1.0,1.0,1.0,0.7,0.58,0.12,0.04,0,0,0,0,0,0,0,0,0,0,0,0,0,0,0,0,0,0,0,0,0,0,0,0], [0.23,0.54,0.53,0.48,0.57,0.59,0.65,0.63,0.55,0.35,0.13,0.03,0.02,0.09,0.74,1.0,0.09,0,0,0,0.32,0.86,1.0,1.0,1.0,1.0,0.57,0.44,0.31,0.16,0.01,0,0,0,0,0,0,0,0,0,0,0,0,0,0,0,0,0,0,0,0,0,0,0,0], [0,0.31,0.45,0.31,0.18,0.28,0.39,0.47,0.54,0.5,0.35,0.2,0.16,0.28,0.75,1.0,0.42,0.01,0,0,0.6,1.0,1.0,1.0,1.0,0.51,0.29,0.09,0,0,0,0,0,0,0,0,0,0,0,0,0,0,0,0,0,0,0,0,0,0,0,0,0,0,0], [0,0,0,0,0,0.14,0.3,0.4,0.54,0.71,0.74,0.65,0.49,0.35,0.27,0.47,0.6,0.6,0.72,0.98,1.0,1.0,1.0,1.0,0.65,0.33,0,0,0,0,0,0,0,0,0,0,0,0,0,0,0,0,0,0,0,0,0,0,0,0,0,0,0,0,0], [0,0,0,0,0,0.06,0.33,0.53,0.69,0.94,0.99,1.0,0.84,0.41,0.16,0.15,0.96,1.0,1.0,1.0,1.0,1.0,1.0,1.0,0.73,0.13,0,0,0,0,0,0,0,0,0,0,0,0,0,0,0,0,0,0,0,0,0,0,0,0,0,0,0,0,0], [0,0,0,0,0,0,0.42,0.86,0.98,0.98,0.99,1.0,0.94,0.63,0.32,0.62,1.0,1.0,1.0,1.0,1.0,1.0,1.0,0.65,0.23,0,0,0,0,0,0,0,0,0,0,0,0,0,0,0,0,0,0,0,0,0,0,0,0,0,0,0,0,0,0], [0,0,0,0,0,0.07,0.62,0.95,1.0,1.0,0.99,0.98,0.99,1.0,1.0,1.0,1.0,1.0,1.0,1.0,0.98,0.14,0,0,0,0,0,0,0,0,0,0,0,0,0,0,0,0,0,0,0,0,0,0,0,0,0,0,0,0,0,0,0,0,0], [0,0,0,0,0,0.03,0.46,0.89,1.0,1.0,0.97,0.83,0.75,0.81,0.94,1.0,1.0,1.0,1.0,0.99,0.03,0,0,0,0,0,0,0,0,0,0,0,0,0,0,0,0,0,0,0,0,0,0,0,0,0,0,0,0,0,0,0,0,0,0], [0,0,0,0,0,0,0.14,0.57,0.88,0.93,0.81,0.58,0.45,0.48,0.64,0.86,0.97,0.99,0.99,0.42,0,0,0,0,0,0,0,0,0,0,0,0,0,0,0,0,0,0,0,0,0,0,0,0,0,0,0,0,0,0,0,0,0,0,0], [0,0,0,0,0,0,0,0,0.23,0.45,0.47,0.39,0.29,0.19,0.2,0.46,0.28,0.03,0,0,0,0,0,0,0,0,0,0,0,0,0,0,0,0,0,0,0,0,0,0,0,0,0,0,0,0,0,0,0,0,0,0,0,0,0], [0,0,0,0,0,0,0,0,0,0,0.08,0.22,0.24,0.15,0,0,0,0,0,0,0,0,0,0,0,0,0,0,0,0,0,0,0,0,0,0,0,0,0,0,0,0,0,0,0,0,0,0,0,0,0,0,0,0,0], [0,0,0,0,0,0,0,0,0,0,0,0.07,0.22,0.14,0,0,0,0,0,0,0,0,0,0,0,0,0,0,0,0,0,0,0,0,0,0,0,0,0,0,0,0,0,0,0,0,0,0,0,0,0,0,0,0,0]])\n",
    "\n",
    "# R=13;k=bump4();d=gaus(0.31,0.048)*0.1\n",
    "Bug = np.load(\"Bug.npy\")\n",
    "\n",
    "# Affichage des espèces\n",
    "figs, axs = plt.subplots(1, 5, figsize=(15, 3))\n",
    "for ax, data, title in zip(axs, [Orbium_unicaudatus, Gyropteron_arcus, Scutium_solidus, Hydrogeminium, Bug], \n",
    "                           ['Orbium Unicaudatus', 'Gyropteron Arcus', 'Scutium Solidus', 'Hydrogeminium', 'Small Bug']):\n",
    "    im = ax.imshow(data, cmap=CMAP, interpolation='bicubic', vmin=0, vmax=1)\n",
    "    ax.set_title(title)\n",
    "    ax.set_yticks([])\n",
    "cbar = plt.colorbar(im, ax=axs, shrink=0.9) \n",
    "plt.show()"
   ]
  },
  {
   "cell_type": "markdown",
   "id": "a72877ac-7bff-415b-b25e-1f90a5291c37",
   "metadata": {
    "tags": []
   },
   "source": [
    "##### Fonction de création de la vidéo"
   ]
  },
  {
   "cell_type": "code",
   "execution_count": null,
   "id": "7e2c727e-9ee6-4966-afc8-4ea463085b27",
   "metadata": {},
   "outputs": [],
   "source": [
    "def produce_movie(X, evolve, m, s, K_lenia, save_path, mode='normal',\n",
    "                  num_steps=100, cmap=None, interpolation='bicubic'):\n",
    "    if len(X.shape) == 2 and cmap is None:\n",
    "        cmap = 'gray_r'\n",
    "    \n",
    "    fig = plt.figure(layout='constrained')\n",
    "    im = plt.imshow(X, cmap=cmap, interpolation=interpolation, vmin=0, vmax=1)\n",
    "    plt.axis('off')\n",
    "    cbar = plt.colorbar(label='Intensité', shrink=0.7)\n",
    "    cbar.ax.patch.set_alpha(0.5)\n",
    "    \n",
    "    title_map = {\n",
    "        'normal': f\"Simulation de Lenia : f(X) - n°{num_file+1}\",\n",
    "        'conv': f\"Simulation de Lenia : k * f(X) - n°{num_file+1}\",\n",
    "        'delta': f\"Simulation de Lenia : d(k * f(X)) - n°{num_file+1}\"\n",
    "    }\n",
    "    plt.title(title_map[mode])\n",
    "    \n",
    "    n = 10 if num_steps >= 10 else 1\n",
    "\n",
    "    convolved_images = []\n",
    "    if mode in ['conv', 'delta']:\n",
    "        progress_bar_preprocessing = tqdm(total=num_steps, desc=\"Pré-traitement\",\n",
    "                                          unit=\" img\", colour='blue', leave=False)\n",
    "        for _ in range(num_steps):\n",
    "            grid = evolve(X, m, s, K_lenia)\n",
    "            convolved_grid = np.clip(sp.signal.convolve2d(grid, K_lenia, mode='same', boundary='wrap'), 0, 1)\n",
    "            if mode == 'delta':\n",
    "                convolved_grid = np.clip(evolve(convolved_grid, m, s, K_lenia), 0, 1)\n",
    "            convolved_images.append(convolved_grid)\n",
    "            X[:] = grid\n",
    "            progress_bar_preprocessing.update(1)\n",
    "        progress_bar_preprocessing.close()\n",
    "\n",
    "    progress_bar_video = tqdm(total=num_steps, desc=\"Progression\",\n",
    "                              unit=\" img\", colour='green', leave=False)\n",
    "    \n",
    "    annotations = []\n",
    "    \n",
    "    def update(i):\n",
    "        progress_bar_video.update(1)\n",
    "        while annotations: # Supprimer les annotations précédentes\n",
    "            annotation = annotations.pop()\n",
    "            annotation.remove()\n",
    "        if mode == 'normal':\n",
    "            if i == 0:\n",
    "                return im,\n",
    "            nonlocal X\n",
    "            grid = evolve(X, m, s, K_lenia)\n",
    "            im.set_array(grid)\n",
    "            X[:] = grid\n",
    "        else:\n",
    "            im.set_array(convolved_images[i])\n",
    "        annotation1 = plt.annotate(f\"Image {i+1}/{num_steps}\", xy=(0.02, 0.96), xycoords='axes fraction',\n",
    "                                   path_effects=[path_effects.withStroke(linewidth=1, foreground='black')],\n",
    "                                   fontsize=8, color='white')\n",
    "        annotation2 = plt.annotate(f\"{(i+1)/FPS} s\", xy=(0.02, 0.02), xycoords='axes fraction',\n",
    "                                   path_effects=[path_effects.withStroke(linewidth=1, foreground='black')],\n",
    "                                   fontsize=8, color='white')\n",
    "        annotations.extend([annotation1, annotation2])\n",
    "        return im,\n",
    "\n",
    "    ani = animation.FuncAnimation(fig, update, num_steps, interval=50, blit=True)\n",
    "    ani.save(save_path, writer='pillow', fps=FPS, dpi=DPI)\n",
    "    progress_bar_video.close()"
   ]
  },
  {
   "cell_type": "markdown",
   "id": "64b2535d-a7bc-4a99-8ab4-f04d79434e67",
   "metadata": {
    "jp-MarkdownHeadingCollapsed": true,
    "tags": []
   },
   "source": [
    "###### Ancien code de création des vidéos"
   ]
  },
  {
   "cell_type": "raw",
   "id": "7929f780-6c1a-468d-a107-9f4e5a4e436b",
   "metadata": {},
   "source": [
    "# Fonction de création de vidéo\n",
    "\n",
    "# Affichage normal\n",
    "def produce_movie(X, evolve, m, s, K_lenia, save_path, num_steps = 100, cmap = None, interpolation = 'bicubic'):\n",
    "\n",
    "    if len(X.shape) == 2 and cmap is None:\n",
    "        cmap = 'gray_r'\n",
    "\n",
    "    fig = plt.figure(figsize=(v, u))\n",
    "    im = plt.imshow(X, cmap=cmap, interpolation=interpolation, vmin=0, vmax=1)\n",
    "    plt.axis('off')\n",
    "    cbar = plt.colorbar(label='Intensité', shrink=0.7)\n",
    "    cbar.ax.patch.set_alpha(0.5)\n",
    "    # plt.grid(which='minor', color='gray', linestyle='-', linewidth=0.4, alpha=0.4)\n",
    "    plt.title(f\"{'Simulation de Lenia : f(X) - n°'}{num_file+1}\")\n",
    "    \n",
    "    n = 10 if num_steps >= 10 else 1\n",
    "    progress_bar = tqdm(total=num_steps, desc=\"Progression\", unit=\" img\", colour='green', leave=False)\n",
    "\n",
    "    def update(i):\n",
    "        if i % (num_steps // n) == 0:\n",
    "            progress_bar.update(1)\n",
    "        if i == num_steps - 1:\n",
    "            progress_bar.close()\n",
    "        if i == 0:\n",
    "            return im,\n",
    "        nonlocal X\n",
    "        grid = evolve(X, m, s, K_lenia)\n",
    "        im.set_array(grid)\n",
    "        X[:] = grid\n",
    "        return im,\n",
    "\n",
    "\n",
    "    ani = animation.FuncAnimation(fig, update, num_steps, interval=50, blit=True)\n",
    "    ani.save(save_path, writer='pillow', fps=FPS, dpi=DPI)\n",
    "\n",
    "# Afichage avec convolution du Kernel\n",
    "def produce_movie_conv(X, evolve, m, s, K_lenia, save_path, num_steps=100, cmap=None, interpolation='bicubic'):\n",
    "    \n",
    "    if len(X.shape) == 2 and cmap is None:\n",
    "        cmap = 'gray_r'\n",
    "\n",
    "    fig = plt.figure(figsize=(v, u))\n",
    "    im = plt.imshow(X, cmap=cmap, interpolation=interpolation, vmin=0, vmax=1)\n",
    "    plt.axis('off')\n",
    "    cbar = plt.colorbar(label='Intensité', shrink=0.7)\n",
    "    cbar.ax.patch.set_alpha(0.5)\n",
    "    # plt.grid(which='minor', color='gray', linestyle='-', linewidth=0.4, alpha=0.4)\n",
    "    plt.title(f\"{'Simulation de Lenia : k * f(X) - n°'}{num_file+1}\")\n",
    "    \n",
    "    n = 10 if num_steps >= 10 else 1\n",
    "    \n",
    "    # Pré-convolution\n",
    "    convolved_images = []\n",
    "    progress_bar_preprocessing = tqdm(total=num_steps, desc=\"Pré-traitement\", unit=\" img\", colour='blue', leave=False)\n",
    "    for _ in range(num_steps):\n",
    "        grid = evolve(X, m, s, K_lenia)\n",
    "        convolved_grid = np.clip(sp.signal.convolve2d(grid, K_lenia, mode='same', boundary='wrap'), 0, 1)\n",
    "        convolved_images.append(convolved_grid)\n",
    "        X[:] = grid\n",
    "        progress_bar_preprocessing.update(1)\n",
    "    progress_bar_preprocessing.close()\n",
    "\n",
    "    progress_bar_video = tqdm(total=num_steps, desc=\"Progression\", unit=\" img\", colour='green', leave=False)\n",
    "\n",
    "    def update(i):\n",
    "        progress_bar_video.update(1)\n",
    "        im.set_array(convolved_images[i])\n",
    "        return im,\n",
    "\n",
    "    ani = animation.FuncAnimation(fig, update, num_steps, interval=50, blit=True)\n",
    "    ani.save(save_path, writer='pillow', fps=FPS, dpi=DPI)\n",
    "    progress_bar_video.close()\n",
    "\n",
    "# Afichage avec convolution du Kernel dans la fonction delta\n",
    "def produce_movie_delta(X, evolve, m, s, K_lenia, save_path, num_steps=100, cmap=None, interpolation='bicubic'):\n",
    "    \n",
    "    if len(X.shape) == 2 and cmap is None:\n",
    "        cmap = 'gray_r'\n",
    "\n",
    "    fig = plt.figure(figsize=(v, u))\n",
    "    im = plt.imshow(X, cmap=cmap, interpolation=interpolation, vmin=0, vmax=1)\n",
    "    plt.axis('off')\n",
    "    cbar = plt.colorbar(label='Intensité', shrink=0.7)\n",
    "    cbar.ax.patch.set_alpha(0.5)\n",
    "    # plt.grid(which='minor', color='gray', linestyle='-', linewidth=0.4, alpha=0.4)\n",
    "    plt.title(f\"{'Simulation de Lenia : d(k * f(X)) - n°'}{num_file+1}\")\n",
    "    \n",
    "    n = 10 if num_steps >= 10 else 1\n",
    "    \n",
    "    # Pré-calcul et convolution\n",
    "    convolved_images = []\n",
    "    progress_bar_preprocessing = tqdm(total=num_steps, desc=\"Pré-traitement\", unit=\" img\", colour='blue', leave=False)\n",
    "    for _ in range(num_steps):\n",
    "        grid = evolve(X, m, s, K_lenia)\n",
    "        convolved_grid = np.clip(evolve(sp.signal.convolve2d(grid, K_lenia, mode='same', boundary='wrap'), m, s, K_lenia), 0, 1)\n",
    "        convolved_images.append(convolved_grid)\n",
    "        X[:] = grid\n",
    "        progress_bar_preprocessing.update(1)\n",
    "    progress_bar_preprocessing.close()\n",
    "\n",
    "    progress_bar_video = tqdm(total=num_steps, desc=\"Progression\", unit=\" img\", colour='green', leave=False)\n",
    "\n",
    "    def update(i):\n",
    "        progress_bar_video.update(1)\n",
    "        im.set_array(convolved_images[i])\n",
    "        return im,\n",
    "\n",
    "    ani = animation.FuncAnimation(fig, update, num_steps, interval=50, blit=True)\n",
    "    ani.save(save_path, writer='pillow', fps=FPS, dpi=DPI)\n",
    "    progress_bar_video.close()"
   ]
  },
  {
   "cell_type": "markdown",
   "id": "867ced91-ba27-4333-a705-7e0696b82e70",
   "metadata": {
    "jp-MarkdownHeadingCollapsed": true,
    "tags": []
   },
   "source": [
    "##### Fonction pour le nommage du fichier"
   ]
  },
  {
   "cell_type": "code",
   "execution_count": null,
   "id": "2c8855d3-6b77-461a-bd6a-f603ae944e90",
   "metadata": {
    "tags": []
   },
   "outputs": [],
   "source": [
    "# Nom du fichier\n",
    "\n",
    "def file_path(name='x', R='x', mu='x', sigma='x', Kernel='x', supp=''):\n",
    "    file_prefix = \"LeniaSimulation\"\n",
    "    file_format = \".gif\"\n",
    "    parameter = f'R{R}mu{mu}sigma{sigma}kernel{Kernel}'\n",
    "    if supp == '':\n",
    "        return f\"{file_prefix}-{num_file + 1}-{name}-{parameter}{file_format}\"\n",
    "    else:\n",
    "        return f\"{file_prefix}-{num_file + 1}-{supp}{name}-{parameter}{file_format}\""
   ]
  },
  {
   "cell_type": "markdown",
   "id": "ba0c3be8-96a5-4480-bd1a-9cb362ea3010",
   "metadata": {
    "tags": []
   },
   "source": [
    "##### Fonctions d'initialisation"
   ]
  },
  {
   "cell_type": "code",
   "execution_count": null,
   "id": "d0babfdf-a812-4a63-add7-63c832344f4c",
   "metadata": {},
   "outputs": [],
   "source": [
    "# Definition des fonctions d'initialisation\n",
    "\n",
    "def GaussSpot():\n",
    "    radius = 36\n",
    "    y, x = np.ogrid[-N//2:N//2, -M//2:M//2]\n",
    "    grid = gauss3D(x, y, 0, 0, radius, radius)\n",
    "    return grid\n",
    "\n",
    "def PlaceData(data, vert, hor, flip=False): \n",
    "    grid = np.zeros((N, M))\n",
    "    pos_x = M//6 if not hor == 'left' else M-M//6\n",
    "    pos_y = N//6 if not vert == 'top' else N-N//6\n",
    "    if flip:\n",
    "        grid[pos_x:(pos_x + data.shape[1]), pos_y:(pos_y + data.shape[0])] = np.fliplr(data.T)\n",
    "    else:\n",
    "        grid[pos_x:(pos_x + data.shape[1]), pos_y:(pos_y + data.shape[0])] = data.T\n",
    "    return grid\n",
    "\n",
    "def TwoPLace(data, flip=False):\n",
    "    grid = PlaceData(data, 'top', 'left', not flip) + PlaceData(data, 'bottom', 'right', flip)\n",
    "    return grid\n",
    "\n",
    "def RandomSquare():\n",
    "    np.random.seed()\n",
    "    pom = int((N+M)/2 * 0.60)\n",
    "    grid = np.zeros((N, M))\n",
    "    pos_x = (N - (N - pom)) // 2\n",
    "    pos_y = (M - (M - pom)) // 2\n",
    "    grid[pos_x:pos_x + (N - pom), pos_y:pos_y + (M - pom)] = np.random.rand(N - pom, M - pom)\n",
    "    return grid\n",
    "\n",
    "def GaussRing(mu, sigma):\n",
    "    y, x = np.ogrid[-N//2:N//2, -M//2:M//2]\n",
    "    k1, k2, k3 = 1/2, 1/3, 1/4 # poids des anneaux\n",
    "    rings = [k1, k2, k3] # liste des anneaux\n",
    "    nb_rings = len(rings)\n",
    "    grid = np.sqrt(x**2 + y**2) / R**2 * nb_rings\n",
    "    for i in range(nb_rings):\n",
    "        masque = (grid.astype(int) == i)\n",
    "        grid += masque * rings[i] * gauss(X%1, mu, sigma)\n",
    "    grid = grid / np.max(grid)\n",
    "    return grid\n",
    "\n",
    "def RandomSquares(mu, sigma, num_squares):\n",
    "    radius = min(M//2, N//2) * 0.5\n",
    "    min_size = radius / 5\n",
    "    max_size = radius / 2\n",
    "    grid = np.zeros((N, M))\n",
    "    for _ in range(num_squares):\n",
    "        size = np.random.uniform(min_size, max_size)\n",
    "        x_center = np.random.randint(M)\n",
    "        y_center = np.random.randint(N)\n",
    "        while ((x_center - M//2)**2 + (y_center - N//2)**2) > radius**2:\n",
    "            x_center = np.random.randint(M)\n",
    "            y_center = np.random.randint(N)\n",
    "        x_start = max(0, int(x_center - size/2))\n",
    "        y_start = max(0, int(y_center - size/2))\n",
    "        x_end = min(M, int(x_center + size/2))\n",
    "        y_end = min(N, int(y_center + size/2))\n",
    "        grid[y_start:y_end, x_start:x_end] = np.random.rand(y_end - y_start, x_end - x_start)\n",
    "    return grid\n",
    "\n",
    "def Gradient():\n",
    "    x, y = np.meshgrid(np.arange(M), np.arange(N))\n",
    "    grid = (x + y) / max(N, M) / 2\n",
    "    return grid\n",
    "\n",
    "def RandomGrid(N, M):\n",
    "    grid = np.random.rand(N, M)\n",
    "    return grid"
   ]
  },
  {
   "cell_type": "markdown",
   "id": "86b46cbc-cf98-43e9-9c3a-934b524c3f10",
   "metadata": {
    "tags": []
   },
   "source": [
    "##### Choix de l'initialisation\n",
    "\n",
    "> Cellule qui permet de démarrer la simulation."
   ]
  },
  {
   "cell_type": "code",
   "execution_count": null,
   "id": "d7643a45-fe8b-435d-b5b5-741e50110be4",
   "metadata": {
    "tags": []
   },
   "outputs": [],
   "source": [
    "# Choix de l'initialisation\n",
    "\n",
    "choices = [\n",
    "    \"1. Gaussian Spot\",\n",
    "    \"2. Orbium Unicaudatus\",\n",
    "    \"3. Random\",\n",
    "    \"4. Random Big Square\",\n",
    "    \"5. Gyropteron Arcus (unworking)\",\n",
    "    \"6. Scutium Solidus\",\n",
    "    \"7. Hydrogeminium Natans\",\n",
    "    \"8. Random with 3rings Kernel\",\n",
    "    \"9. Multiples Rings Gaussian\",\n",
    "    \"10. Random Smalls Squares\",\n",
    "    \"11. Gradient\",\n",
    "    \"12. Small Bug (unworking)\"\n",
    "]\n",
    "\n",
    "# Affichage des choix d'initialisation\n",
    "print(\"Choisissez l'initialisation :\")\n",
    "for choice in choices:\n",
    "    print(f\"  ({choice.split('.')[0]}) {choice.split('. ')[1]}\")\n",
    "\n",
    "# Validation de l'entrée pour le choix d'initialisation\n",
    "while True:\n",
    "    choice = input('Entrez votre choix : ')\n",
    "    if choice == 'stop':\n",
    "        break\n",
    "    elif choice in [str(i) for i in range(1, len(choices)+1)]:\n",
    "        break\n",
    "\n",
    "    else:\n",
    "        print(\" -> Entrée invalide. Veuillez entrer un nombre entre 1 et 12.\")\n",
    "\n",
    "# Validation de l'entrée pour le nombre d'images\n",
    "while True:\n",
    "    try:\n",
    "        frame = int(input('Combien d\\'images voulez-vous générer ? '))\n",
    "        if frame == 'stop':\n",
    "            break\n",
    "        elif frame > 0:\n",
    "            if frame > 3000: # valeur maximum d'image pour la simulation. A modifier comme bon vous semble\n",
    "                print(\" -> Entrée invalide. Veuillez entrer un nombre moins élevé.\")\n",
    "            else:\n",
    "                break\n",
    "        else:\n",
    "            print(\" -> Entrée invalide. Veuillez entrer un nombre strictement positif.\")\n",
    "    except ValueError:\n",
    "        print(\" -> Entrée invalide. Veuillez entrer un nombre entier.\")\n",
    "\n",
    "# Affichage des choix d'affichage\n",
    "print('Quel affichage voulez-vous ?')\n",
    "print('  (a) Normal : f(X)')\n",
    "print('  (b) Somme du Voisinage : k * f(X)')\n",
    "print('  (c) Delta de la Somme du Voisinage : d(k * f(X))')\n",
    "print('  (d) Tous')\n",
    "\n",
    "# Validation de l'entrée pour le choix de convolution\n",
    "while True:\n",
    "    choice_conv = input('Entrez votre choix : ')\n",
    "    if choice_conv == 'stop':\n",
    "        break\n",
    "    elif choice_conv in ['a', 'b', 'c','d']:\n",
    "        break\n",
    "    else:\n",
    "        print(\" -> Entrée invalide. Veuillez entrer 'a', 'b', 'c' ou 'd'.\")\n",
    "\n",
    "stop = choice == 'stop' or frame == 'stop' or choice_conv == 'stop'\n",
    "        \n",
    "print('\\n')\n",
    "\n",
    "# Liste des configurations initiales\n",
    "config = {\n",
    "    '1': {'mu': 0.15, 'sigma': 0.017, 'name': 'GaussianSpot', 'R': 26, 'kernel': 1 , 'evolve': evolve_lenia, 'init': lambda: GaussSpot()},\n",
    "    '2': {'mu': 0.15, 'sigma': 0.017, 'name': 'OrbiumUnicaudatus', 'R': 13, 'kernel': 1 , 'evolve': evolve_lenia, 'init': lambda: TwoPLace(Orbium_unicaudatus)},\n",
    "    '3': {'mu': 0.15, 'sigma': 0.017, 'name': 'Random', 'R': 26, 'kernel': 1 , 'evolve': evolve_lenia, 'init': lambda: RandomGrid(N, M)},\n",
    "    '4': {'mu': 0.31, 'sigma': 0.049, 'name': 'RandomSquare', 'R': 26, 'kernel': 1 , 'evolve': evolve_lenia, 'init': lambda: RandomSquare()},\n",
    "    '5': {'mu': 0.293, 'sigma': 0.0511, 'name': 'GyropteronArcus', 'R': 26, 'kernel': 1 , 'evolve': evolve_lenia, 'init': lambda: PlaceData(Gyropteron_arcus, 'left', 'top', True)},\n",
    "    '6': {'mu': 0.29, 'sigma': 0.043, 'name': 'ScutiumSolidus', 'R': 26, 'kernel': 1 , 'evolve': evolve_lenia, 'init': lambda: PlaceData(Scutium_solidus, 'left', 'top')},\n",
    "    '7': {'mu': 0.26, 'sigma': 0.036, 'name': 'HydrogeminiumNatans', 'R': 18, 'kernel': 4 , 'evolve': evolve_hydro, 'init': lambda: PlaceData(Hydrogeminium, 'left', 'top')},\n",
    "    '8': {'mu': 0.26, 'sigma': 0.036, 'name': 'Random3rings', 'R': 26, 'kernel': 4 , 'evolve': evolve_hydro, 'init': lambda: RandomSquare()},\n",
    "    '9': {'mu': 0.29, 'sigma': 0.027, 'name': 'MutlipleRings', 'R': 26, 'kernel': 4 , 'evolve': evolve_hydro, 'init': lambda: GaussRing(0.29, 0.043)},\n",
    "    '10': {'mu': 0.15, 'sigma': 0.017, 'name': 'RandomSquares', 'R': 26, 'kernel': 1 , 'evolve': evolve_lenia, 'init': lambda: RandomSquares(0.15, 0.017, 15)},\n",
    "    '11': {'mu': 0.1, 'sigma': 0.15, 'name': 'Gradient', 'R': 26, 'kernel': 1 , 'evolve': evolve_lenia, 'init': lambda: Gradient()},\n",
    "    '12': {'mu': 0.31, 'sigma': 0.048, 'name': 'SmallBug', 'R': 13, 'kernel': 3 , 'evolve': evolve_lenia, 'init': lambda: PlaceData(Bug, 'left', 'top')}\n",
    "}\n",
    "if choice in config and not stop: # attitrage des variables\n",
    "    cfg = config[choice]\n",
    "    mu, sigma = cfg['mu'], cfg['sigma']\n",
    "    R = cfg['R']\n",
    "    name = cfg['name']\n",
    "    X = cfg['init']()\n",
    "    k_choice = cfg['kernel']\n",
    "    K_lenia = Kernel_choice(k_choice)\n",
    "    evolve_func = cfg['evolve']\n",
    "    interpolation = 'none' if choice == '4' else 'bicubic'\n",
    "    \n",
    "    # Affichage d'une figure avec le kernel l'initialisation et les paramètres de simulation\n",
    "    fig = plt.figure(figsize=(12, 4))\n",
    "    gs = fig.add_gridspec(1, 4, width_ratios=[1, 1, 0.06, 1])\n",
    "\n",
    "    ax0 = fig.add_subplot(gs[0, 0])\n",
    "    ax1 = fig.add_subplot(gs[0, 1])\n",
    "    cbar_ax = fig.add_subplot(gs[0, 2])\n",
    "    ax_info = fig.add_subplot(gs[0, 3])\n",
    "\n",
    "    im0 = ax0.imshow(K_lenia, cmap=CMAP, interpolation='nearest')\n",
    "    ax0.set_title(f'Kernel choisi: K{k_choice}')\n",
    "    ax0.set_yticks([])\n",
    "\n",
    "    if choice_conv == 'b':\n",
    "        affichage = 'Convolution : k * f(X)'\n",
    "        Xs = np.clip(sp.signal.convolve2d(X, K_lenia, mode='full', boundary='wrap'), 0, 1)\n",
    "    elif choice_conv == 'c':\n",
    "        affichage = 'Delta : d(k * f(X))'\n",
    "        Xs = np.clip(evolve_func(sp.signal.convolve2d(X, K_lenia, mode='same', boundary='wrap'), mu, sigma, K_lenia), 0, 1)\n",
    "    elif choice_conv == 'a':\n",
    "        affichage = 'Normal : f(X)'\n",
    "        Xs = X\n",
    "    elif choice_conv == 'd':\n",
    "        affichage = 'Tous les affichages ont été choisis.\\nf(X) affiché par défaut.'\n",
    "        Xs = X\n",
    "    else :\n",
    "        affichage ='error'\n",
    "        Xs = X\n",
    "\n",
    "    im1 = ax1.imshow(Xs, cmap=CMAP, interpolation='bicubic')\n",
    "    ax1.set_title('Initialisation choisie')\n",
    "    ax1.set_yticks([])\n",
    "\n",
    "    cbar = fig.colorbar(im1, cax=cbar_ax, shrink=0.7)\n",
    "    cbar.ax.set_ylabel('Intensité')\n",
    "\n",
    "    # Paramètres de simulation (text)\n",
    "    info_text = (\n",
    "        f\"Simulation n°{num_file + 1}\\n\\n\"\n",
    "        f\"Nom de l'initialisation choisie :\\n\"\n",
    "        f\"{name}\\n \\n\"\n",
    "        f\"mu = {mu} ; sigma = {sigma}\\n\"\n",
    "        f\"R = {R} ; dt = {dt}\\n \\n\"\n",
    "        f\"Numéro de Kernel : K{k_choice}\\n \\n\"\n",
    "        f\"Nombre d'images : {frame}\\n \\n\"\n",
    "        f\"Taille du graphe : [{N}:{M}]\\n\"\n",
    "        f\"DPI = {DPI} ; fps = {FPS}\\n \\n\"\n",
    "        f\"ColorMap: {CMAP}\\n\\n\"\n",
    "        f\"Type d'affichage : \\n\"\n",
    "        f\"{affichage}\"\n",
    "                )\n",
    "    \n",
    "    ax_info.text(0.05, 0.5, info_text, va='center', ha='left', fontsize=11)\n",
    "    ax_info.axis('off')  # Pour enlever les axes du subplot d'info\n",
    "\n",
    "    plt.tight_layout()\n",
    "    plt.show()\n",
    "    \n",
    "    print('\\nDémarrage de la simulation...')\n",
    "    \n",
    "    X1, X2, X3 = np.zeros_like(X), np.zeros_like(X), np.zeros_like(X)\n",
    "    X1[:], X2[:], X3[:] = X, X, X\n",
    "    \n",
    "    # Génération de la vidéo\n",
    "    if choice_conv == 'a':\n",
    "        produce_movie(X, evolve_func, mu, sigma, K_lenia, file_path(name, R, mu, sigma, k_choice), mode='normal', num_steps=frame, cmap=CMAP, interpolation=interpolation)\n",
    "    elif choice_conv == 'b':\n",
    "        produce_movie(X, evolve_func, mu, sigma, K_lenia, file_path(name, R, mu, sigma, k_choice, 'Conv'), mode='conv', num_steps=frame, cmap=CMAP, interpolation=interpolation)\n",
    "    elif choice_conv == 'c':\n",
    "        produce_movie(X, evolve_func, mu, sigma, K_lenia, file_path(name, R, mu, sigma, k_choice, 'Delta'), mode='delta', num_steps=frame, cmap=CMAP, interpolation=interpolation)\n",
    "    elif choice_conv == 'd':\n",
    "        print(' La simulation risque de durer un moment, vous avez choisi de générer les trois affichages pour la même initialisation.')\n",
    "        print(' Vous pouvez aller vous faire un café en attendant (seulement si vous avez défini un nombre de frame élevé).')\n",
    "        produce_movie(X1, evolve_func, mu, sigma, K_lenia, file_path(name, R, mu, sigma, k_choice), mode='normal', num_steps=frame, cmap=CMAP, interpolation=interpolation)\n",
    "        produce_movie(X2, evolve_func, mu, sigma, K_lenia, file_path(name, R, mu, sigma, k_choice, 'Conv'), mode='conv', num_steps=frame, cmap=CMAP, interpolation=interpolation)\n",
    "        produce_movie(X3, evolve_func, mu, sigma, K_lenia, file_path(name, R, mu, sigma, k_choice, 'Delta'), mode='delta', num_steps=frame, cmap=CMAP, interpolation=interpolation)\n",
    "    else:\n",
    "        print(\" -> Erreur dans lors du choix de l'affichage\")\n",
    "    \n",
    "    print('\\nSimulation terminé !\\n')\n",
    "    \n",
    "    plt.show()\n",
    "\n",
    "else:\n",
    "    print(\" -> Erreur dans lors du choix de l'initialisation\")\n",
    "\n",
    "num_file += 1 # Ajout de 1 au numérotage des fichiers"
   ]
  },
  {
   "cell_type": "markdown",
   "id": "28652581-768d-4d6a-9515-8920ab1df96c",
   "metadata": {},
   "source": [
    "---"
   ]
  }
 ],
 "metadata": {
  "kernelspec": {
   "display_name": "Python 3 (ipykernel)",
   "language": "python",
   "name": "python3"
  },
  "language_info": {
   "codemirror_mode": {
    "name": "ipython",
    "version": 3
   },
   "file_extension": ".py",
   "mimetype": "text/x-python",
   "name": "python",
   "nbconvert_exporter": "python",
   "pygments_lexer": "ipython3",
   "version": "3.11.7"
  }
 },
 "nbformat": 4,
 "nbformat_minor": 5
}
